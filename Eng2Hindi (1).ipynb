{
 "cells": [
  {
   "cell_type": "code",
   "execution_count": 3,
   "id": "4108bddb-fb9c-456b-866d-1837f398fca2",
   "metadata": {},
   "outputs": [
    {
     "name": "stdout",
     "output_type": "stream",
     "text": [
      "{'input_ids': tensor([[ 5312,     2,   287,    23,    85, 15550,  1098,    22,     0]]), 'attention_mask': tensor([[1, 1, 1, 1, 1, 1, 1, 1, 1]])}\n"
     ]
    },
    {
     "name": "stderr",
     "output_type": "stream",
     "text": [
      "/home/vedant/.local/lib/python3.11/site-packages/transformers/models/marian/tokenization_marian.py:175: UserWarning: Recommended: pip install sacremoses.\n",
      "  warnings.warn(\"Recommended: pip install sacremoses.\")\n"
     ]
    }
   ],
   "source": [
    "from transformers import MarianMTModel, MarianTokenizer\n",
    "\n",
    "name_model = \"Helsinki-NLP/opus-mt-en-hi\"\n",
    "tokenizer = MarianTokenizer.from_pretrained(name_model)\n",
    "test_text = \"Hey, how is your college going?\"\n",
    "tokens = tokenizer(test_text, return_tensors = \"pt\")\n",
    "print(tokens)"
   ]
  },
  {
   "cell_type": "markdown",
   "id": "87ca3a48-3d7e-4f94-8990-1e29e9170c62",
   "metadata": {},
   "source": [
    "It is visible that the input sentance has been converted to the input token vector and also an attention mask has been returned \n",
    "that is showing us to which tokens the self attention will be distributing attention. For Tokens that are used for the means of padding for \n",
    "example, the attention mask will be set to 0, instructing the transformer to not give those tokens any attention in the search of better versions \n",
    "of the embeddings"
   ]
  },
  {
   "cell_type": "code",
   "execution_count": 9,
   "id": "58758df0-6268-40e3-8913-87db7d64b9d2",
   "metadata": {},
   "outputs": [],
   "source": [
    "model = MarianMTModel.from_pretrained(name_model)\n"
   ]
  },
  {
   "cell_type": "code",
   "execution_count": 10,
   "id": "eb3aa63c-c376-473b-aa3a-1fee8cec1d4f",
   "metadata": {},
   "outputs": [
    {
     "name": "stdout",
     "output_type": "stream",
     "text": [
      "This below is the translated version of the english sentance in hindi\n",
      "\n",
      "मैं आज सुबह के लिए क्लासों के लिए जा रहा हूँ\n"
     ]
    }
   ],
   "source": [
    "#tersting the preloaded model's working with the means of initialised weights from pre-training.\n",
    "text = \"I am on my way to classes for today morning\"\n",
    "tokens = tokenizer(text, return_tensors = \"pt\")\n",
    "translated_tokens = model.generate(**tokens)\n",
    "translation = tokenizer.decode(translated_tokens[0], skip_special_tokens= True)\n",
    "print(\"This below is the translated version of the english sentance in hindi\\n\")\n",
    "print(translation)"
   ]
  },
  {
   "cell_type": "code",
   "execution_count": 36,
   "id": "d51799f1-785b-45cb-8fc2-4c264e6ec657",
   "metadata": {},
   "outputs": [
    {
     "name": "stdout",
     "output_type": "stream",
     "text": [
      "{'input_ids': tensor([[ 5312,     2,   287,    23,    52,  1098,    34,    27,     0],\n",
      "        [  244,   120,    85,   243,   203,   765,    22,     0, 61949]]), 'attention_mask': tensor([[1, 1, 1, 1, 1, 1, 1, 1, 1],\n",
      "        [1, 1, 1, 1, 1, 1, 1, 1, 0]])}\n"
     ]
    }
   ],
   "source": [
    "new_text = [\"Hey, how is it going for you\",\"How has your day been today?\"]\n",
    "tokens = tokenizer(new_text, return_tensors = \"pt\", padding = True)\n",
    "print(tokens)"
   ]
  },
  {
   "cell_type": "code",
   "execution_count": 37,
   "id": "0805905a-3ec4-4470-8cc6-f25113361279",
   "metadata": {},
   "outputs": [
    {
     "name": "stdout",
     "output_type": "stream",
     "text": [
      "अरे, यह आप के लिए कैसे जा रहा है\n",
      "आज आपका दिन कैसा रहा है?\n"
     ]
    }
   ],
   "source": [
    "output_tokens = model.generate(**tokens)\n",
    "for i in output_tokens:\n",
    "    print(tokenizer.decode(i,skip_special_tokens = True))"
   ]
  },
  {
   "cell_type": "code",
   "execution_count": 3,
   "id": "ffa1623d-fff0-42dd-a0de-c91f460ff693",
   "metadata": {},
   "outputs": [
    {
     "name": "stdout",
     "output_type": "stream",
     "text": [
      "DatasetDict({\n",
      "    train: Dataset({\n",
      "        features: ['translation'],\n",
      "        num_rows: 1659083\n",
      "    })\n",
      "    validation: Dataset({\n",
      "        features: ['translation'],\n",
      "        num_rows: 520\n",
      "    })\n",
      "    test: Dataset({\n",
      "        features: ['translation'],\n",
      "        num_rows: 2507\n",
      "    })\n",
      "})\n"
     ]
    }
   ],
   "source": [
    "from datasets import load_dataset\n",
    "\n",
    "dataset = load_dataset(\"cfilt/iitb-english-hindi\")\n",
    "print(dataset)\n"
   ]
  },
  {
   "cell_type": "markdown",
   "id": "a38e891e-719a-4bf7-82fc-abcc4025a79e",
   "metadata": {},
   "source": [
    "We see above that the dataset is already partitioned into the desired train validation and test splits, which means we can go\n",
    "ahead and tokenize the input data and also do padding to keep the tensor dimensions to be uniform."
   ]
  },
  {
   "cell_type": "code",
   "execution_count": 4,
   "id": "2610b93e-6383-4da4-8bd9-e0f6c683a577",
   "metadata": {},
   "outputs": [
    {
     "name": "stdout",
     "output_type": "stream",
     "text": [
      "The total number of samples is 3\n"
     ]
    },
    {
     "name": "stderr",
     "output_type": "stream",
     "text": [
      "Tokenizing dataset:   0%|                                                                         | 0/3 [00:00<?, ?it/s]"
     ]
    },
    {
     "data": {
      "application/vnd.jupyter.widget-view+json": {
       "model_id": "a2ebf4ef7ad84a588076f22126614f16",
       "version_major": 2,
       "version_minor": 0
      },
      "text/plain": [
       "Tokenizing Dataset (num_proc=4):   0%|          | 0/1659083 [00:00<?, ? examples/s]"
      ]
     },
     "metadata": {},
     "output_type": "display_data"
    },
    {
     "name": "stderr",
     "output_type": "stream",
     "text": [
      "Tokenizing dataset: 414720it [01:33, 4627.81it/s]]                                                                      "
     ]
    },
    {
     "data": {
      "application/vnd.jupyter.widget-view+json": {
       "model_id": "bffdce9fa7f840429ba1ad8eb830d6f2",
       "version_major": 2,
       "version_minor": 0
      },
      "text/plain": [
       "Tokenizing Dataset (num_proc=4):   0%|          | 0/520 [00:00<?, ? examples/s]"
      ]
     },
     "metadata": {},
     "output_type": "display_data"
    },
    {
     "name": "stderr",
     "output_type": "stream",
     "text": [
      "Tokenizing dataset: 130it [01:34,  1.38it/s]                                                                            "
     ]
    },
    {
     "data": {
      "application/vnd.jupyter.widget-view+json": {
       "model_id": "d7d2277ce8db4ccc9012924c74e807f3",
       "version_major": 2,
       "version_minor": 0
      },
      "text/plain": [
       "Tokenizing Dataset (num_proc=4):   0%|          | 0/2507 [00:00<?, ? examples/s]"
      ]
     },
     "metadata": {},
     "output_type": "display_data"
    },
    {
     "name": "stderr",
     "output_type": "stream",
     "text": [
      "Tokenizing dataset:   0%|                                                                         | 0/3 [01:34<?, ?it/s]\n"
     ]
    }
   ],
   "source": [
    "from tqdm import tqdm\n",
    "\n",
    "def token_padding(examples, progress_bar=None):\n",
    "    source_text = [item[\"en\"] for item in examples[\"translation\"]]\n",
    "    target_text = [item[\"hi\"] for item in examples[\"translation\"]]\n",
    "    inputs = tokenizer_b(source_text, truncation= True,padding= \"max_length\", max_length= 128)\n",
    "    targets = tokenizer_b(target_text, truncation = True, padding = \"max_length\" ,max_length = 128)\n",
    "    if progress_bar is not None:\n",
    "        progress_bar.update(len(source_text))\n",
    "\n",
    "    return {\"input_ids\":inputs[\"input_ids\"],\"attention_mask\":inputs[\"attention_mask\"],\"labels\":targets[\"input_ids\"],}\n",
    "\n",
    "tot_samples = len(dataset)\n",
    "print(f\"The total number of samples is {tot_samples}\")\n",
    "\n",
    "with tqdm(total = tot_samples,desc = \"Tokenizing dataset\") as progress_bar:\n",
    "    tokenized_datasets = dataset.map(\n",
    "        lambda examples: token_padding(examples, progress_bar),\n",
    "        batched=True, \n",
    "        batch_size=512,\n",
    "        num_proc=4, \n",
    "        desc=\"Tokenizing Dataset\"\n",
    "    )\n",
    "tokenized_ds = tokenized_datasets.with_format(\"torch\", device = \"cuda\")"
   ]
  },
  {
   "cell_type": "code",
   "execution_count": 48,
   "id": "b484831a-3d54-45b2-a22e-d50396f380cf",
   "metadata": {},
   "outputs": [
    {
     "name": "stdout",
     "output_type": "stream",
     "text": [
      "DatasetDict({\n",
      "    train: Dataset({\n",
      "        features: ['translation', 'input_ids', 'attention_mask', 'labels'],\n",
      "        num_rows: 1659083\n",
      "    })\n",
      "    validation: Dataset({\n",
      "        features: ['translation', 'input_ids', 'attention_mask', 'labels'],\n",
      "        num_rows: 520\n",
      "    })\n",
      "    test: Dataset({\n",
      "        features: ['translation', 'input_ids', 'attention_mask', 'labels'],\n",
      "        num_rows: 2507\n",
      "    })\n",
      "})\n",
      "{'translation': {'en': 'Give your application an accessibility workout', 'hi': 'अपने अनुप्रयोग को पहुंचनीयता व्यायाम का लाभ दें'}, 'input_ids': [3872, 85, 2501, 132, 15441, 36398, 0, 61949, 61949, 61949, 61949, 61949, 61949, 61949, 61949, 61949, 61949, 61949, 61949, 61949, 61949, 61949, 61949, 61949, 61949, 61949, 61949, 61949, 61949, 61949, 61949, 61949, 61949, 61949, 61949, 61949, 61949, 61949, 61949, 61949, 61949, 61949, 61949, 61949, 61949, 61949, 61949, 61949, 61949, 61949, 61949, 61949, 61949, 61949, 61949, 61949, 61949, 61949, 61949, 61949, 61949, 61949, 61949, 61949, 61949, 61949, 61949, 61949, 61949, 61949, 61949, 61949, 61949, 61949, 61949, 61949, 61949, 61949, 61949, 61949, 61949, 61949, 61949, 61949, 61949, 61949, 61949, 61949, 61949, 61949, 61949, 61949, 61949, 61949, 61949, 61949, 61949, 61949, 61949, 61949, 61949, 61949, 61949, 61949, 61949, 61949, 61949, 61949, 61949, 61949, 61949, 61949, 61949, 61949, 61949, 61949, 61949, 61949, 61949, 61949, 61949, 61949, 61949, 61949, 61949, 61949, 61949, 61949], 'attention_mask': [1, 1, 1, 1, 1, 1, 1, 0, 0, 0, 0, 0, 0, 0, 0, 0, 0, 0, 0, 0, 0, 0, 0, 0, 0, 0, 0, 0, 0, 0, 0, 0, 0, 0, 0, 0, 0, 0, 0, 0, 0, 0, 0, 0, 0, 0, 0, 0, 0, 0, 0, 0, 0, 0, 0, 0, 0, 0, 0, 0, 0, 0, 0, 0, 0, 0, 0, 0, 0, 0, 0, 0, 0, 0, 0, 0, 0, 0, 0, 0, 0, 0, 0, 0, 0, 0, 0, 0, 0, 0, 0, 0, 0, 0, 0, 0, 0, 0, 0, 0, 0, 0, 0, 0, 0, 0, 0, 0, 0, 0, 0, 0, 0, 0, 0, 0, 0, 0, 0, 0, 0, 0, 0, 0, 0, 0, 0, 0], 'labels': [44, 4499, 2703, 314, 174, 44, 4499, 314, 3625, 2703, 1185, 428, 1321, 917, 3355, 44, 716, 917, 44, 2703, 24217, 549, 4228, 314, 130, 12604, 260, 44, 926, 1185, 1321, 260, 1321, 260, 1056, 44, 716, 260, 44, 800, 260, 7817, 44, 13087, 549, 0, 61949, 61949, 61949, 61949, 61949, 61949, 61949, 61949, 61949, 61949, 61949, 61949, 61949, 61949, 61949, 61949, 61949, 61949, 61949, 61949, 61949, 61949, 61949, 61949, 61949, 61949, 61949, 61949, 61949, 61949, 61949, 61949, 61949, 61949, 61949, 61949, 61949, 61949, 61949, 61949, 61949, 61949, 61949, 61949, 61949, 61949, 61949, 61949, 61949, 61949, 61949, 61949, 61949, 61949, 61949, 61949, 61949, 61949, 61949, 61949, 61949, 61949, 61949, 61949, 61949, 61949, 61949, 61949, 61949, 61949, 61949, 61949, 61949, 61949, 61949, 61949, 61949, 61949, 61949, 61949, 61949, 61949]}\n"
     ]
    }
   ],
   "source": [
    "print(tokenized_datasets)\n",
    "print(tokenized_datasets[\"train\"][0])  # Print first sample from training set\n"
   ]
  },
  {
   "cell_type": "code",
   "execution_count": 49,
   "id": "5ff25a33-04e3-427b-b9fa-7983d8c3e7db",
   "metadata": {},
   "outputs": [
    {
     "name": "stdout",
     "output_type": "stream",
     "text": [
      "Decoded : Give your application an accessibility workout\n"
     ]
    }
   ],
   "source": [
    "input_ids = tokenized_datasets[\"train\"][0][\"input_ids\"]\n",
    "decoded = tokenizer.decode(input_ids, skip_special_tokens = True)\n",
    "print(\"Decoded :\", decoded)"
   ]
  },
  {
   "cell_type": "code",
   "execution_count": 50,
   "id": "6dde5a38-c40e-433d-883b-6c3010a049e8",
   "metadata": {},
   "outputs": [
    {
     "name": "stdout",
     "output_type": "stream",
     "text": [
      "128\n",
      "128\n"
     ]
    }
   ],
   "source": [
    "print(len(tokenized_datasets[\"train\"][0][\"input_ids\"]))  # Should match max_length (e.g., 128)\n",
    "print(len(tokenized_datasets[\"train\"][0][\"labels\"]))  # Should match max_length (e.g., 128)\n"
   ]
  },
  {
   "cell_type": "markdown",
   "id": "556b2c32-47d7-43b8-8a97-73dc1f914461",
   "metadata": {},
   "source": [
    "So, looks liek the tokenization happened properly and the padding was also successful."
   ]
  },
  {
   "cell_type": "code",
   "execution_count": 75,
   "id": "d7388f4d-76d9-4188-97fc-478519da220d",
   "metadata": {},
   "outputs": [
    {
     "name": "stderr",
     "output_type": "stream",
     "text": [
      "[nltk_data] Downloading package wordnet to /home/vedant/nltk_data...\n",
      "[nltk_data]   Package wordnet is already up-to-date!\n",
      "[nltk_data] Downloading package punkt to /home/vedant/nltk_data...\n",
      "[nltk_data]   Package punkt is already up-to-date!\n",
      "[nltk_data] Downloading package omw-1.4 to /home/vedant/nltk_data...\n",
      "[nltk_data]   Package omw-1.4 is already up-to-date!\n",
      "/home/vedant/.local/lib/python3.11/site-packages/transformers/training_args.py:1611: FutureWarning: `evaluation_strategy` is deprecated and will be removed in version 4.46 of 🤗 Transformers. Use `eval_strategy` instead\n",
      "  warnings.warn(\n",
      "/tmp/ipykernel_3614946/791313164.py:40: FutureWarning: `tokenizer` is deprecated and will be removed in version 5.0.0 for `Seq2SeqTrainer.__init__`. Use `processing_class` instead.\n",
      "  trainer = Seq2SeqTrainer(\n"
     ]
    },
    {
     "name": "stdout",
     "output_type": "stream",
     "text": [
      "Trainingggg\n"
     ]
    },
    {
     "data": {
      "text/html": [
       "\n",
       "    <div>\n",
       "      \n",
       "      <progress value='207386' max='207386' style='width:300px; height:20px; vertical-align: middle;'></progress>\n",
       "      [207386/207386 3:23:58, Epoch 2/2]\n",
       "    </div>\n",
       "    <table border=\"1\" class=\"dataframe\">\n",
       "  <thead>\n",
       " <tr style=\"text-align: left;\">\n",
       "      <th>Step</th>\n",
       "      <th>Training Loss</th>\n",
       "      <th>Validation Loss</th>\n",
       "      <th>Bleu</th>\n",
       "      <th>Rougel</th>\n",
       "      <th>Meteor</th>\n",
       "    </tr>\n",
       "  </thead>\n",
       "  <tbody>\n",
       "    <tr>\n",
       "      <td>10000</td>\n",
       "      <td>0.179900</td>\n",
       "      <td>0.511884</td>\n",
       "      <td>0.149481</td>\n",
       "      <td>0.096111</td>\n",
       "      <td>0.385513</td>\n",
       "    </tr>\n",
       "    <tr>\n",
       "      <td>20000</td>\n",
       "      <td>0.182400</td>\n",
       "      <td>0.518132</td>\n",
       "      <td>0.150553</td>\n",
       "      <td>0.091058</td>\n",
       "      <td>0.386553</td>\n",
       "    </tr>\n",
       "    <tr>\n",
       "      <td>30000</td>\n",
       "      <td>0.191200</td>\n",
       "      <td>0.510200</td>\n",
       "      <td>0.153834</td>\n",
       "      <td>0.088575</td>\n",
       "      <td>0.393200</td>\n",
       "    </tr>\n",
       "    <tr>\n",
       "      <td>40000</td>\n",
       "      <td>0.190600</td>\n",
       "      <td>0.497636</td>\n",
       "      <td>0.153723</td>\n",
       "      <td>0.093077</td>\n",
       "      <td>0.387780</td>\n",
       "    </tr>\n",
       "    <tr>\n",
       "      <td>50000</td>\n",
       "      <td>0.187200</td>\n",
       "      <td>0.497527</td>\n",
       "      <td>0.155640</td>\n",
       "      <td>0.098200</td>\n",
       "      <td>0.392698</td>\n",
       "    </tr>\n",
       "    <tr>\n",
       "      <td>60000</td>\n",
       "      <td>0.192200</td>\n",
       "      <td>0.499278</td>\n",
       "      <td>0.157028</td>\n",
       "      <td>0.092719</td>\n",
       "      <td>0.395540</td>\n",
       "    </tr>\n",
       "    <tr>\n",
       "      <td>70000</td>\n",
       "      <td>0.199300</td>\n",
       "      <td>0.492236</td>\n",
       "      <td>0.151364</td>\n",
       "      <td>0.092697</td>\n",
       "      <td>0.391488</td>\n",
       "    </tr>\n",
       "    <tr>\n",
       "      <td>80000</td>\n",
       "      <td>0.194000</td>\n",
       "      <td>0.484341</td>\n",
       "      <td>0.151807</td>\n",
       "      <td>0.089390</td>\n",
       "      <td>0.386571</td>\n",
       "    </tr>\n",
       "    <tr>\n",
       "      <td>90000</td>\n",
       "      <td>0.195000</td>\n",
       "      <td>0.489219</td>\n",
       "      <td>0.153796</td>\n",
       "      <td>0.094840</td>\n",
       "      <td>0.389429</td>\n",
       "    </tr>\n",
       "    <tr>\n",
       "      <td>100000</td>\n",
       "      <td>0.201200</td>\n",
       "      <td>0.477844</td>\n",
       "      <td>0.160295</td>\n",
       "      <td>0.091468</td>\n",
       "      <td>0.397617</td>\n",
       "    </tr>\n",
       "    <tr>\n",
       "      <td>110000</td>\n",
       "      <td>0.231100</td>\n",
       "      <td>0.464120</td>\n",
       "      <td>0.163442</td>\n",
       "      <td>0.096571</td>\n",
       "      <td>0.402845</td>\n",
       "    </tr>\n",
       "    <tr>\n",
       "      <td>120000</td>\n",
       "      <td>0.223000</td>\n",
       "      <td>0.458594</td>\n",
       "      <td>0.157018</td>\n",
       "      <td>0.087001</td>\n",
       "      <td>0.397784</td>\n",
       "    </tr>\n",
       "    <tr>\n",
       "      <td>130000</td>\n",
       "      <td>0.223800</td>\n",
       "      <td>0.457408</td>\n",
       "      <td>0.162877</td>\n",
       "      <td>0.087687</td>\n",
       "      <td>0.400812</td>\n",
       "    </tr>\n",
       "    <tr>\n",
       "      <td>140000</td>\n",
       "      <td>0.228100</td>\n",
       "      <td>0.453220</td>\n",
       "      <td>0.165595</td>\n",
       "      <td>0.085715</td>\n",
       "      <td>0.401048</td>\n",
       "    </tr>\n",
       "    <tr>\n",
       "      <td>150000</td>\n",
       "      <td>0.225800</td>\n",
       "      <td>0.453853</td>\n",
       "      <td>0.167906</td>\n",
       "      <td>0.094564</td>\n",
       "      <td>0.407664</td>\n",
       "    </tr>\n",
       "    <tr>\n",
       "      <td>160000</td>\n",
       "      <td>0.220000</td>\n",
       "      <td>0.452454</td>\n",
       "      <td>0.161517</td>\n",
       "      <td>0.091579</td>\n",
       "      <td>0.402983</td>\n",
       "    </tr>\n",
       "    <tr>\n",
       "      <td>170000</td>\n",
       "      <td>0.217400</td>\n",
       "      <td>0.451049</td>\n",
       "      <td>0.165575</td>\n",
       "      <td>0.094326</td>\n",
       "      <td>0.404814</td>\n",
       "    </tr>\n",
       "    <tr>\n",
       "      <td>180000</td>\n",
       "      <td>0.215900</td>\n",
       "      <td>0.449949</td>\n",
       "      <td>0.166356</td>\n",
       "      <td>0.088937</td>\n",
       "      <td>0.405775</td>\n",
       "    </tr>\n",
       "    <tr>\n",
       "      <td>190000</td>\n",
       "      <td>0.220300</td>\n",
       "      <td>0.449843</td>\n",
       "      <td>0.166689</td>\n",
       "      <td>0.088754</td>\n",
       "      <td>0.407226</td>\n",
       "    </tr>\n",
       "    <tr>\n",
       "      <td>200000</td>\n",
       "      <td>0.224000</td>\n",
       "      <td>0.447503</td>\n",
       "      <td>0.164223</td>\n",
       "      <td>0.089212</td>\n",
       "      <td>0.407028</td>\n",
       "    </tr>\n",
       "  </tbody>\n",
       "</table><p>"
      ],
      "text/plain": [
       "<IPython.core.display.HTML object>"
      ]
     },
     "metadata": {},
     "output_type": "display_data"
    },
    {
     "ename": "AttributeError",
     "evalue": "type object 'Trainer' has no attribute 'get_last_checkpoint'",
     "output_type": "error",
     "traceback": [
      "\u001b[0;31m---------------------------------------------------------------------------\u001b[0m",
      "\u001b[0;31mAttributeError\u001b[0m                            Traceback (most recent call last)",
      "Cell \u001b[0;32mIn[75], line 52\u001b[0m\n\u001b[1;32m     50\u001b[0m \u001b[38;5;28mprint\u001b[39m(\u001b[38;5;124m\"\u001b[39m\u001b[38;5;124mTrainingggg\u001b[39m\u001b[38;5;124m\"\u001b[39m)\n\u001b[1;32m     51\u001b[0m train_result \u001b[38;5;241m=\u001b[39m trainer\u001b[38;5;241m.\u001b[39mtrain()\n\u001b[0;32m---> 52\u001b[0m latest_checkpoint \u001b[38;5;241m=\u001b[39m Trainer\u001b[38;5;241m.\u001b[39mget_last_checkpoint(\u001b[38;5;124m\"\u001b[39m\u001b[38;5;124m./results\u001b[39m\u001b[38;5;124m\"\u001b[39m)\n\u001b[1;32m     53\u001b[0m \u001b[38;5;28;01mif\u001b[39;00m latest_checkpoint:\n\u001b[1;32m     54\u001b[0m     \u001b[38;5;28mprint\u001b[39m(\u001b[38;5;124mf\u001b[39m\u001b[38;5;124m\"\u001b[39m\u001b[38;5;124mResuming from checkpoint: \u001b[39m\u001b[38;5;132;01m{\u001b[39;00mlatest_checkpoint\u001b[38;5;132;01m}\u001b[39;00m\u001b[38;5;124m\"\u001b[39m)\n",
      "\u001b[0;31mAttributeError\u001b[0m: type object 'Trainer' has no attribute 'get_last_checkpoint'"
     ]
    }
   ],
   "source": [
    "import torch\n",
    "import numpy as np\n",
    "import matplotlib.pyplot as plt\n",
    "from transformers import AutoModelForSeq2SeqLM, TrainingArguments, Trainer, DataCollatorForSeq2Seq, Seq2SeqTrainer, Seq2SeqTrainingArguments\n",
    "from datasets import DatasetDict\n",
    "from evaluate import load\n",
    "\n",
    "device = torch.device(\"cuda\" if torch.cuda.is_available() else \"cpu\")\n",
    "model.to(device)\n",
    "\n",
    "data_collator = DataCollatorForSeq2Seq(tokenizer,model= model)\n",
    "bleu = load(\"bleu\")\n",
    "rouge= load(\"rouge\")\n",
    "meteor = load(\"meteor\")\n",
    "\n",
    "def find_metrics(eval_pred):\n",
    "    predictions , labels = eval_pred\n",
    "    predictions = tokenizer.batch_decode(predictions, skip_special_tokens = True)\n",
    "    labels = tokenizer.batch_decode(labels, skip_special_tokens = True)\n",
    "    bleu_score = bleu.compute(predictions=predictions, references=[[ref] for ref in labels])[\"bleu\"]\n",
    "    rouge_score = rouge.compute(predictions=predictions, references=labels)[\"rougeL\"]\n",
    "    meteor_score = meteor.compute(predictions=predictions, references=labels)[\"meteor\"]\n",
    "\n",
    "    ret_dict = {\"bleu\": bleu_score, \"rougeL\": rouge_score, \"meteor\": meteor_score}\n",
    "    return ret_dict\n",
    "\n",
    "hpams = { \"batch_size\": 16,  \"learning_rate\": 3e-5, \"epochs\": 2 }\n",
    "#these hpams can be tuned to:\n",
    "'''batch_size : 8,16,32\n",
    "    lr: 1e-4, 3e-5,5e-5\n",
    "    epochs: 5, 10,15'''\n",
    "\n",
    "training_args = Seq2SeqTrainingArguments(\n",
    "    output_dir = \"./results\", evaluation_strategy = \"steps\",eval_steps = 10000, save_strategy= \"steps\", per_device_train_batch_size= hpams[\"batch_size\"],\n",
    "    per_device_eval_batch_size=hpams[\"batch_size\"],learning_rate = hpams[\"learning_rate\"],num_train_epochs= hpams[\"epochs\"], \n",
    "    weight_decay=0.01,logging_dir=\"./logs\",save_total_limit=3,predict_with_generate=True,\n",
    "    fp16=torch.cuda.is_available(), \n",
    "    report_to=\"none\")\n",
    "\n",
    "trainer = Seq2SeqTrainer(\n",
    "    model=model,\n",
    "    args=training_args,\n",
    "    train_dataset=tokenized_datasets[\"train\"],\n",
    "    eval_dataset=tokenized_datasets[\"validation\"],\n",
    "    tokenizer=tokenizer,\n",
    "    data_collator=data_collator,\n",
    "    compute_metrics=find_metrics\n",
    ")\n",
    "\n",
    "print(\"Trainingggg\")\n",
    "train_result = trainer.train()\n",
    "\n",
    "\n"
   ]
  },
  {
   "cell_type": "code",
   "execution_count": 77,
   "id": "7d27b468-aca4-4a7a-b6b1-d86e8e23de61",
   "metadata": {},
   "outputs": [
    {
     "name": "stderr",
     "output_type": "stream",
     "text": [
      "There were missing keys in the checkpoint model loaded: ['model.encoder.embed_tokens.weight', 'model.encoder.embed_positions.weight', 'model.decoder.embed_tokens.weight', 'model.decoder.embed_positions.weight', 'lm_head.weight'].\n"
     ]
    },
    {
     "name": "stdout",
     "output_type": "stream",
     "text": [
      "Loading checkpoint: ./results/checkpoint-207386\n"
     ]
    },
    {
     "name": "stderr",
     "output_type": "stream",
     "text": [
      "/home/vedant/.local/lib/python3.11/site-packages/transformers/trainer.py:3443: FutureWarning: You are using `torch.load` with `weights_only=False` (the current default value), which uses the default pickle module implicitly. It is possible to construct malicious pickle data which will execute arbitrary code during unpickling (See https://github.com/pytorch/pytorch/blob/main/SECURITY.md#untrusted-models for more details). In a future release, the default value for `weights_only` will be flipped to `True`. This limits the functions that could be executed during unpickling. Arbitrary objects will no longer be allowed to be loaded via this mode unless they are explicitly allowlisted by the user via `torch.serialization.add_safe_globals`. We recommend you start setting `weights_only=True` for any use case where you don't have full control of the loaded file. Please open an issue on GitHub for any issues related to this experimental feature.\n",
      "  torch.load(os.path.join(checkpoint, OPTIMIZER_NAME), map_location=map_location)\n"
     ]
    },
    {
     "data": {
      "text/html": [
       "\n",
       "    <div>\n",
       "      \n",
       "      <progress value='207386' max='207386' style='width:300px; height:20px; vertical-align: middle;'></progress>\n",
       "      [207386/207386 : < :, Epoch 2/2]\n",
       "    </div>\n",
       "    <table border=\"1\" class=\"dataframe\">\n",
       "  <thead>\n",
       " <tr style=\"text-align: left;\">\n",
       "      <th>Step</th>\n",
       "      <th>Training Loss</th>\n",
       "      <th>Validation Loss</th>\n",
       "    </tr>\n",
       "  </thead>\n",
       "  <tbody>\n",
       "  </tbody>\n",
       "</table><p>"
      ],
      "text/plain": [
       "<IPython.core.display.HTML object>"
      ]
     },
     "metadata": {},
     "output_type": "display_data"
    },
    {
     "name": "stdout",
     "output_type": "stream",
     "text": [
      "Evaluating on the test set...\n"
     ]
    },
    {
     "data": {
      "text/html": [],
      "text/plain": [
       "<IPython.core.display.HTML object>"
      ]
     },
     "metadata": {},
     "output_type": "display_data"
    },
    {
     "name": "stdout",
     "output_type": "stream",
     "text": [
      "Evaluation Metrics: {'test_loss': 0.501838743686676, 'test_bleu': 0.16646087246384608, 'test_rougeL': 0.14264635474867518, 'test_meteor': 0.4042937748151691, 'test_runtime': 104.3784, 'test_samples_per_second': 24.018, 'test_steps_per_second': 1.504}\n"
     ]
    },
    {
     "data": {
      "text/plain": [
       "('./fine_tuned_model/tokenizer_config.json',\n",
       " './fine_tuned_model/special_tokens_map.json',\n",
       " './fine_tuned_model/vocab.json',\n",
       " './fine_tuned_model/source.spm',\n",
       " './fine_tuned_model/target.spm',\n",
       " './fine_tuned_model/added_tokens.json')"
      ]
     },
     "execution_count": 77,
     "metadata": {},
     "output_type": "execute_result"
    }
   ],
   "source": [
    "from transformers.trainer_utils import get_last_checkpoint\n",
    "latest_checkpoint = get_last_checkpoint(\"./results\")\n",
    "\n",
    "if latest_checkpoint:\n",
    "    print(f\"Loading checkpoint: {latest_checkpoint}\")\n",
    "    trainer.train(resume_from_checkpoint=latest_checkpoint)\n",
    "else:\n",
    "    print(\"No checkpoint found, proceeding with evaluation.\")\n",
    "\n",
    "print(\"Evaluating on the test set...\")\n",
    "metrics = trainer.predict(tokenized_datasets[\"test\"]).metrics\n",
    "print(f\"Evaluation Metrics: {metrics}\")\n",
    "\n",
    "model.save_pretrained(\"./fine_tuned_model\")\n",
    "tokenizer.save_pretrained(\"./fine_tuned_model\")\n"
   ]
  },
  {
   "cell_type": "code",
   "execution_count": 84,
   "id": "f7de35db-b399-4a91-931b-ecba09c77fe2",
   "metadata": {},
   "outputs": [
    {
     "data": {
      "image/png": "[encoded data removed]",
      "text/plain": [
       "<Figure size 800x500 with 1 Axes>"
      ]
     },
     "metadata": {},
     "output_type": "display_data"
    }
   ],
   "source": [
    "import matplotlib.pyplot as plt\n",
    "log_history = trainer.state.log_history\n",
    "train_steps = [log[\"step\"] for log in log_history if \"loss\" in log]\n",
    "train_loss = [log[\"loss\"] for log in log_history if \"loss\" in log]\n",
    "\n",
    "eval_steps =[log[\"step\"] for log in log_history if \"eval_loss\" in log]\n",
    "eval_loss = [log[\"eval_loss\"] for log in log_history if \"eval_loss\" in log]\n",
    "plt.figure(figsize=(8, 5))\n",
    "plt.plot(train_steps, train_loss, label=\"Training Loss\", marker=\"o\", linestyle=\"-\", alpha=0.7)\n",
    "plt.plot(eval_steps, eval_loss, label=\"Validation Loss\", marker=\"s\", linestyle=\"--\", alpha=0.9, color=\"red\")\n",
    "plt.xlabel(\"Training Steps\")\n",
    "plt.ylabel(\"Loss\")\n",
    "plt.title(\"Training vs Validation Loss Curve\")\n",
    "plt.legend()\n",
    "plt.grid()\n",
    "plt.show()"
   ]
  },
  {
   "cell_type": "code",
   "execution_count": 85,
   "id": "3f16ee05-c3fd-4ba5-be73-3666ca518bca",
   "metadata": {},
   "outputs": [
    {
     "name": "stderr",
     "output_type": "stream",
     "text": [
      "Generating Translations:  33%|██████▋             | 1/3 [00:00<00:00,  8.42it/s]"
     ]
    },
    {
     "name": "stdout",
     "output_type": "stream",
     "text": [
      "**English:** Hello, how are you?\n",
      "**Hindi (Translated):** नमस्ते, तुम कैसे हो?\n",
      "\n"
     ]
    },
    {
     "name": "stderr",
     "output_type": "stream",
     "text": [
      "Generating Translations: 100%|████████████████████| 3/3 [00:00<00:00,  5.73it/s]"
     ]
    },
    {
     "name": "stdout",
     "output_type": "stream",
     "text": [
      "**English:** I have fine tuned this model for the means of english-hindi translation\n",
      "**Hindi (Translated):** मैंने अंग्रेजी-ंदी अनाद के साधनों के लिए इस मॉडल को ्छा बनाया\n",
      "\n",
      "**English:** This should be a much better model\n",
      "**Hindi (Translated):** यह एक बर मॉडल होना चाए\n",
      "\n"
     ]
    },
    {
     "name": "stderr",
     "output_type": "stream",
     "text": [
      "\n"
     ]
    }
   ],
   "source": [
    "def generate_translation(text, model, tokenizer):\n",
    "    inputs = tokenizer(text, return_tensors=\"pt\", padding=True, truncation=True).to(device)\n",
    "    output_ids = model.generate(**inputs)\n",
    "    return tokenizer.decode(output_ids[0], skip_special_tokens=True)\n",
    "\n",
    "sample_texts = [\n",
    "    \"Hello, how are you?\",\n",
    "    \"I have fine tuned this model for the means of english-hindi translation\",\n",
    "    \"This should be a much better model\"\n",
    "]\n",
    "\n",
    "for text in tqdm(sample_texts, desc=\"Generating Translations\"):\n",
    "    before = generate_translation(text, model, tokenizer)\n",
    "    print(f\"**English:** {text}\")\n",
    "    print(f\"**Hindi (Translated):** {before}\\n\")"
   ]
  },
  {
   "cell_type": "code",
   "execution_count": 5,
   "id": "ff8bedf5-f894-455f-b1e3-b6d62e183d7e",
   "metadata": {},
   "outputs": [
    {
     "name": "stderr",
     "output_type": "stream",
     "text": [
      "/home/vedant/.local/lib/python3.11/site-packages/transformers/models/marian/tokenization_marian.py:175: UserWarning: Recommended: pip install sacremoses.\n",
      "  warnings.warn(\"Recommended: pip install sacremoses.\")\n"
     ]
    }
   ],
   "source": [
    "from transformers import MarianMTModel, MarianTokenizer\n",
    "import torch\n",
    "model_2 = \"Helsinki-NLP/opus-mt-en-hi\" \n",
    "tokenizer_b = MarianTokenizer.from_pretrained(model_2)\n",
    "model_b = MarianMTModel.from_pretrained(model_2)"
   ]
  },
  {
   "cell_type": "code",
   "execution_count": 21,
   "id": "4dd53018-af14-47d8-a0e9-ea4d2b862a49",
   "metadata": {},
   "outputs": [
    {
     "name": "stderr",
     "output_type": "stream",
     "text": [
      "Generating Translations: 100%|█████████████████████████████████████████████████████████| 1/1 [00:00<00:00,  5.13batch/s]\n",
      "Generating Translations: 100%|█████████████████████████████████████████████████████| 157/157 [00:37<00:00,  4.22batch/s]\n"
     ]
    },
    {
     "name": "stdout",
     "output_type": "stream",
     "text": [
      "Warning: Predictions seem to be text, skipping batch_decode.\n",
      "These are the metrics for the pretrained model only\n",
      " {'bleu': 0.0690320505405765, 'rougeL': 0.10715301296673455, 'meteor': 0.25946561147935365}\n"
     ]
    }
   ],
   "source": [
    "import torch\n",
    "from tqdm import tqdm\n",
    "device = torch.device(\"cuda\" if torch.cuda.is_available() else \"cpu\")\n",
    "model_b.to(device) \n",
    "\n",
    "def gen_translations(dataset):\n",
    "    inputs = [ex[\"en\"] for ex in dataset[\"translation\"]]\n",
    "    translations = []\n",
    "\n",
    "    for i in tqdm(range(0, len(inputs), 16), desc=\"Generating Translations\", unit=\"batch\"):\n",
    "        batch_inputs = inputs[i:i+16]  \n",
    "        ips = tokenizer_b(batch_inputs, return_tensors=\"pt\", padding=True, truncation=True)\n",
    "        ips = {k: v.to(device) for k, v in ips.items()}\n",
    "        ops = model_b.generate(**ips).to(\"cpu\")\n",
    "        batch_translations = tokenizer_b.batch_decode(ops, skip_special_tokens=True)\n",
    "        translations.extend(batch_translations)\n",
    "    return translations\n",
    "\n",
    "\n",
    "small_sample = tokenized_datasets[\"test\"].select(range(5))\n",
    "try:\n",
    "    preds = gen_translations(small_sample)  # Test on a small dataset\n",
    "    references = tokenizer_b.batch_decode(small_sample[\"labels\"], skip_special_tokens=True)\n",
    "except Exception as e:\n",
    "    print(\"🚨 Error detected:\", e)\n",
    "    print(\"Sample `labels` data:\", small_sample[\"labels\"][:5])\n",
    "    exit()\n",
    "\n",
    "preds = gen_translations(tokenized_datasets[\"test\"])\n",
    "references = tokenized_datasets[\"test\"][\"labels\"]\n",
    "metrics = find_metrics((preds, references))\n",
    "print(\"These are the metrics for the pretrained model only\\n\", metrics)\n"
   ]
  },
  {
   "cell_type": "code",
   "execution_count": 20,
   "id": "5e2a81a4-35ab-44d2-946e-e1ccf5e63c68",
   "metadata": {},
   "outputs": [
    {
     "name": "stderr",
     "output_type": "stream",
     "text": [
      "[nltk_data] Downloading package wordnet to /home/vedant/nltk_data...\n",
      "[nltk_data]   Package wordnet is already up-to-date!\n",
      "[nltk_data] Downloading package punkt to /home/vedant/nltk_data...\n",
      "[nltk_data]   Package punkt is already up-to-date!\n",
      "[nltk_data] Downloading package omw-1.4 to /home/vedant/nltk_data...\n",
      "[nltk_data]   Package omw-1.4 is already up-to-date!\n"
     ]
    }
   ],
   "source": [
    "from evaluate import load\n",
    "bleu = load(\"bleu\")\n",
    "rouge= load(\"rouge\")\n",
    "meteor = load(\"meteor\")\n",
    "def find_metrics(eval_pred):\n",
    "    predictions, labels = eval_pred \n",
    "    if isinstance(labels, torch.Tensor):\n",
    "        labels = labels.tolist()\n",
    "    labels = [[token for token in label if token != tokenizer_b.pad_token_id] for label in labels]\n",
    "    if isinstance(predictions[0], str): \n",
    "        print(\"Warning: Predictions seem to be text, skipping batch_decode.\")\n",
    "    else:\n",
    "        predictions = tokenizer_b.batch_decode(predictions, skip_special_tokens=True)\n",
    "    labels = tokenizer_b.batch_decode(labels, skip_special_tokens=True)\n",
    "    bleu_score = bleu.compute(predictions=predictions, references=[[ref] for ref in labels])[\"bleu\"]\n",
    "    rouge_score = rouge.compute(predictions=predictions, references=labels)[\"rougeL\"]\n",
    "    meteor_score = meteor.compute(predictions=predictions, references=labels)[\"meteor\"]\n",
    "    return {\"bleu\": bleu_score, \"rougeL\": rouge_score, \"meteor\": meteor_score}"
   ]
  },
  {
   "cell_type": "code",
   "execution_count": 6,
   "id": "227e64cc-ea5c-428d-9dc0-f10c126fe179",
   "metadata": {},
   "outputs": [
    {
     "name": "stdout",
     "output_type": "stream",
     "text": [
      "The total number of samples is 3\n"
     ]
    },
    {
     "name": "stderr",
     "output_type": "stream",
     "text": [
      "Tokenizing Dataset:   0%|                                                                         | 0/3 [00:00<?, ?it/s]"
     ]
    },
    {
     "data": {
      "application/vnd.jupyter.widget-view+json": {
       "model_id": "9757c4ec6c924e6a8543f986e0490e58",
       "version_major": 2,
       "version_minor": 0
      },
      "text/plain": [
       "Map (num_proc=4):   0%|          | 0/1659083 [00:00<?, ? examples/s]"
      ]
     },
     "metadata": {},
     "output_type": "display_data"
    },
    {
     "name": "stderr",
     "output_type": "stream",
     "text": [
      "Tokenizing Dataset: 414720it [03:54, 4673.04it/s]                                                                       "
     ]
    },
    {
     "data": {
      "application/vnd.jupyter.widget-view+json": {
       "model_id": "beedef23bb7f438f962ee6f3008a3cba",
       "version_major": 2,
       "version_minor": 0
      },
      "text/plain": [
       "Map (num_proc=4):   0%|          | 0/520 [00:00<?, ? examples/s]"
      ]
     },
     "metadata": {},
     "output_type": "display_data"
    },
    {
     "name": "stderr",
     "output_type": "stream",
     "text": [
      "Tokenizing Dataset: 130it [03:55,  1.81s/it]                                                                            "
     ]
    },
    {
     "data": {
      "application/vnd.jupyter.widget-view+json": {
       "model_id": "299ee449be2a4a73a360a84e1b4fa66e",
       "version_major": 2,
       "version_minor": 0
      },
      "text/plain": [
       "Map (num_proc=4):   0%|          | 0/2507 [00:00<?, ? examples/s]"
      ]
     },
     "metadata": {},
     "output_type": "display_data"
    },
    {
     "name": "stderr",
     "output_type": "stream",
     "text": [
      "Tokenizing Dataset:   0%|                                                                         | 0/3 [03:56<?, ?it/s]\n"
     ]
    }
   ],
   "source": [
    "from tqdm import tqdm\n",
    "\n",
    "def token_padding(examples, progress_bar=None):\n",
    "    source_text = [ex[\"en\"] for ex in examples[\"translation\"]]\n",
    "    target_text = [ex[\"hi\"] for ex in examples[\"translation\"]]\n",
    "    inputs = tokenizer_b(source_text, truncation=True, padding=\"max_length\", max_length=128)\n",
    "    targets = tokenizer_b(target_text, truncation=True, padding=\"max_length\", max_length=128)\n",
    "    if progress_bar is not None:\n",
    "        progress_bar.update(len(source_text))\n",
    "    return {\n",
    "        \"input_ids\": inputs[\"input_ids\"],\n",
    "        \"attention_mask\": inputs[\"attention_mask\"],\n",
    "        \"labels\": targets[\"input_ids\"],  \n",
    "    }\n",
    "tot_samples = len(dataset)\n",
    "print(f\"The total number of samples is {tot_samples}\")\n",
    "with tqdm(total=tot_samples, desc=\"Tokenizing Dataset\") as progress_bar:\n",
    "    tokenized_datasets = dataset.map(\n",
    "        lambda examples: token_padding(examples, progress_bar),\n",
    "        batched=True,\n",
    "        batch_size=512,  \n",
    "        num_proc=4  \n",
    "    )\n"
   ]
  },
  {
   "cell_type": "code",
   "execution_count": null,
   "id": "2229b989-c0ec-4730-b898-9a5476dc360d",
   "metadata": {},
   "outputs": [],
   "source": []
  }
 ],
 "metadata": {
  "kernelspec": {
   "display_name": "Python 3 (ipykernel)",
   "language": "python",
   "name": "python3"
  },
  "language_info": {
   "codemirror_mode": {
    "name": "ipython",
    "version": 3
   },
   "file_extension": ".py",
   "mimetype": "text/x-python",
   "name": "python",
   "nbconvert_exporter": "python",
   "pygments_lexer": "ipython3",
   "version": "3.11.7"
  }
 },
 "nbformat": 4,
 "nbformat_minor": 5
}
